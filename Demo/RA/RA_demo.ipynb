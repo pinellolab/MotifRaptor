{
 "cells": [
  {
   "cell_type": "code",
   "execution_count": 7,
   "metadata": {
    "collapsed": true
   },
   "outputs": [],
   "source": [
    "import sys\n",
    "\n",
    "sys.path.append('/data/pinello/PEOPLE/qiuming/software/pythonscript/MotifRaptor3/')"
   ]
  },
  {
   "cell_type": "code",
   "execution_count": null,
   "metadata": {},
   "outputs": [],
   "source": [
    "#step 0. pre-processing\n",
    "#generate standard format for hit SNPs and background SNPs"
   ]
  },
  {
   "cell_type": "code",
   "execution_count": 2,
   "metadata": {
    "collapsed": true
   },
   "outputs": [],
   "source": [
    "import numpy as np\n",
    "import pandas as pd\n",
    "import os\n",
    "import scipy.stats as stats\n",
    "import pybedtools\n",
    "import re\n",
    "import multiprocessing\n",
    "from functools import partial\n",
    "\n",
    "import matplotlib.pyplot as plt"
   ]
  },
  {
   "cell_type": "code",
   "execution_count": 50,
   "metadata": {
    "collapsed": true
   },
   "outputs": [],
   "source": [
    "sumstatsfile=\"RA_GWASmeta_TransEthnic_v2.txt\"\n",
    "\n",
    "SNP_sumstat_dataframe=pd.read_csv(sumstatsfile,sep='\\t')\n",
    "SNP_sumstat_dataframe=SNP_sumstat_dataframe[SNP_sumstat_dataframe.columns[[0,1,2,3,4,6]]]\n",
    "SNP_sumstat_dataframe.columns=['ID','CHR','POS','A1','A2','P-val']\n",
    "#SNP_sumstat_dataframe=SNP_sumstat_dataframe.set_index('SNPID')\n",
    "p=5E-8\n",
    "target_SNP_df=SNP_sumstat_dataframe[SNP_sumstat_dataframe['P-val']<=p]\n",
    "bg_SNP_df=SNP_sumstat_dataframe[SNP_sumstat_dataframe['P-val']>p]\n",
    "\n"
   ]
  },
  {
   "cell_type": "code",
   "execution_count": 51,
   "metadata": {},
   "outputs": [],
   "source": [
    "target_SNP_df_sub=target_SNP_df[['ID','CHR','POS']]\n",
    "target_SNP_df_sub.to_csv(\"hitSNP_list.txt\", sep='\\t',index=None, header=True)"
   ]
  },
  {
   "cell_type": "code",
   "execution_count": 52,
   "metadata": {},
   "outputs": [],
   "source": [
    "bg_SNP_df_sub=bg_SNP_df[['ID','CHR','POS']]\n",
    "bg_SNP_df_sub.to_csv(\"nonhitSNP_list.txt\", sep='\\t',index=None, header=True)"
   ]
  },
  {
   "cell_type": "code",
   "execution_count": null,
   "metadata": {
    "collapsed": true
   },
   "outputs": [],
   "source": [
    "###step1. run cell type or tissue type characterization"
   ]
  },
  {
   "cell_type": "code",
   "execution_count": 62,
   "metadata": {
    "collapsed": true
   },
   "outputs": [],
   "source": [
    "##run\n",
    "#python $package_path/MotifRaptor3/MotifRaptor.py celltype -vcf hitSNP_list.vcf -sh hitSNP_list.txt -sn nonhitSNP_list.txt -wd step1_out/ -p 2"
   ]
  },
  {
   "cell_type": "code",
   "execution_count": null,
   "metadata": {},
   "outputs": [],
   "source": [
    "#optional: plot figure after running the command\n",
    "from CellTypeAnalyzer import CellTypeAnalysis\n",
    "import imp\n",
    "imp.reload(CellTypeAnalysis)\n",
    "CellTypeAnalysis.plotfigure_main(\"all_sorted.pvalue\",\"plot_all_cell_type.pdf\")"
   ]
  },
  {
   "cell_type": "code",
   "execution_count": null,
   "metadata": {
    "collapsed": true
   },
   "outputs": [],
   "source": [
    "###step2. run motif discovery and filtering"
   ]
  },
  {
   "cell_type": "code",
   "execution_count": null,
   "metadata": {},
   "outputs": [],
   "source": [
    "##run\n",
    "#python $package_path/MotifRaptor3/MotifRaptor.py snpmotif -wd step2_out -c \"CD8-positive, alpha-beta T cell\" -sb step1_out/hitSNP_DHSunion_list.bed -se step1_out/hit_snps_seq_pickle.df.txt -bg genome -m test_motif.txt -p 2"
   ]
  },
  {
   "cell_type": "code",
   "execution_count": null,
   "metadata": {
    "collapsed": true
   },
   "outputs": [],
   "source": [
    "##run\n",
    "#python $package_path/MotifRaptor3/MotifRaptor.py motiffilter -wd step2_out/motif_result -ms step2_out/motif_result/all_motifs.pvalue"
   ]
  },
  {
   "cell_type": "code",
   "execution_count": null,
   "metadata": {
    "collapsed": true
   },
   "outputs": [],
   "source": [
    "###step3. Draw plots"
   ]
  },
  {
   "cell_type": "code",
   "execution_count": null,
   "metadata": {
    "collapsed": true
   },
   "outputs": [],
   "source": [
    "##run\n",
    "#python $package_path/MotifRaptor3/MotifRaptor.py motifspecific -wd step3_out -sm step2_out/result_new_df_motifs_ENCFF512IML.txt -md MA0105.1__NFKB1 -bs step2_out/motif_result/background_files/ "
   ]
  },
  {
   "cell_type": "code",
   "execution_count": null,
   "metadata": {
    "collapsed": true
   },
   "outputs": [],
   "source": [
    "##run\n",
    "#python $package_path/MotifRaptor3/MotifRaptor.py snpspecific -wd step3_out -sm step2_out/result_new_df_motifs_ENCFF512IML.txt -snp rs7528684 "
   ]
  },
  {
   "cell_type": "code",
   "execution_count": null,
   "metadata": {
    "collapsed": true
   },
   "outputs": [],
   "source": [
    "##run\n",
    "#python $package_path/MotifRaptor3/MotifRaptor.py snpmotifradar -wd step3_out -sm step2_out/result_new_df_motifs_ENCFF512IML.txt -pid rs7528684:MA0105.1__NFKB1"
   ]
  },
  {
   "cell_type": "code",
   "execution_count": null,
   "metadata": {
    "collapsed": true
   },
   "outputs": [],
   "source": []
  },
  {
   "cell_type": "code",
   "execution_count": null,
   "metadata": {
    "collapsed": true
   },
   "outputs": [],
   "source": []
  },
  {
   "cell_type": "code",
   "execution_count": null,
   "metadata": {
    "collapsed": true
   },
   "outputs": [],
   "source": []
  },
  {
   "cell_type": "code",
   "execution_count": null,
   "metadata": {
    "collapsed": true
   },
   "outputs": [],
   "source": []
  },
  {
   "cell_type": "code",
   "execution_count": null,
   "metadata": {
    "collapsed": true
   },
   "outputs": [],
   "source": []
  },
  {
   "cell_type": "code",
   "execution_count": null,
   "metadata": {
    "collapsed": true
   },
   "outputs": [],
   "source": []
  },
  {
   "cell_type": "code",
   "execution_count": null,
   "metadata": {
    "collapsed": true
   },
   "outputs": [],
   "source": []
  },
  {
   "cell_type": "code",
   "execution_count": null,
   "metadata": {},
   "outputs": [],
   "source": []
  },
  {
   "cell_type": "code",
   "execution_count": null,
   "metadata": {},
   "outputs": [],
   "source": []
  },
  {
   "cell_type": "code",
   "execution_count": null,
   "metadata": {},
   "outputs": [],
   "source": []
  },
  {
   "cell_type": "code",
   "execution_count": null,
   "metadata": {},
   "outputs": [],
   "source": []
  },
  {
   "cell_type": "code",
   "execution_count": null,
   "metadata": {},
   "outputs": [],
   "source": []
  },
  {
   "cell_type": "code",
   "execution_count": null,
   "metadata": {},
   "outputs": [],
   "source": []
  },
  {
   "cell_type": "code",
   "execution_count": null,
   "metadata": {},
   "outputs": [],
   "source": []
  },
  {
   "cell_type": "code",
   "execution_count": null,
   "metadata": {
    "collapsed": true
   },
   "outputs": [],
   "source": [
    "\n"
   ]
  }
 ],
 "metadata": {
  "kernelspec": {
   "display_name": "Python 3",
   "language": "python",
   "name": "python3"
  },
  "language_info": {
   "codemirror_mode": {
    "name": "ipython",
    "version": 3
   },
   "file_extension": ".py",
   "mimetype": "text/x-python",
   "name": "python",
   "nbconvert_exporter": "python",
   "pygments_lexer": "ipython3",
   "version": "3.6.1"
  }
 },
 "nbformat": 4,
 "nbformat_minor": 2
}
